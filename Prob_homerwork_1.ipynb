{
 "cells": [
  {
   "cell_type": "code",
   "execution_count": 1,
   "metadata": {},
   "outputs": [],
   "source": [
    "from math import factorial"
   ]
  },
  {
   "cell_type": "code",
   "execution_count": 2,
   "metadata": {},
   "outputs": [],
   "source": [
    "def arrangements(n):\n",
    "    return factorial(n)\n",
    "\n",
    "def placements(n, k):\n",
    "    return factorial(n)/factorial(n-k)\n",
    "\n",
    "def combinations(n,k):\n",
    "    return factorial(n)/(factorial(k) * factorial(n-k))"
   ]
  },
  {
   "cell_type": "markdown",
   "metadata": {},
   "source": [
    "1. Из колоды в 52 карты извлекаются случайным образом 4 карты. a) Найти вероятность того, что все карты – крести. б) Найти вероятность, что среди 4-х карт окажется хотя бы один туз."
   ]
  },
  {
   "cell_type": "code",
   "execution_count": 3,
   "metadata": {},
   "outputs": [
    {
     "name": "stdout",
     "output_type": "stream",
     "text": [
      "0.26%\n"
     ]
    }
   ],
   "source": [
    "# а)\n",
    "\n",
    "# всего вариантов достать 4 карты из колоды\n",
    "all4s = combinations(52,4)\n",
    "\n",
    "# вариантов достать 4 крестей из 13 (все крести)\n",
    "clubs = combinations(13,4)\n",
    "\n",
    "answer = clubs/all4s\n",
    "\n",
    "print('{}%'.format(round(answer*100, 2)))"
   ]
  },
  {
   "cell_type": "code",
   "execution_count": 4,
   "metadata": {},
   "outputs": [
    {
     "name": "stdout",
     "output_type": "stream",
     "text": [
      "28.13%\n"
     ]
    }
   ],
   "source": [
    "# б)\n",
    "\n",
    "# хотя бы один - это противополжно от НИ ОДНОГО\n",
    "\n",
    "no_aces = combinations(48,4)\n",
    "\n",
    "answer = 1 - no_aces/all4s\n",
    "\n",
    "print('{}%'.format(round(answer*100, 2)))"
   ]
  },
  {
   "cell_type": "markdown",
   "metadata": {},
   "source": [
    "2. На входной двери подъезда установлен кодовый замок, содержащий десять кнопок с цифрами от 0 до 9. Код содержит три цифры, которые нужно нажать одновременно. Какова вероятность того, что человек, не знающий код, откроет дверь с первой попытки?"
   ]
  },
  {
   "cell_type": "code",
   "execution_count": 5,
   "metadata": {},
   "outputs": [
    {
     "name": "stdout",
     "output_type": "stream",
     "text": [
      "0.83%\n"
     ]
    }
   ],
   "source": [
    "# всего вариантов набрать код\n",
    "\n",
    "all_codes = combinations(10,3)\n",
    "\n",
    "answer = 1/all_codes\n",
    "\n",
    "print('{}%'.format(round(answer*100, 2)))"
   ]
  },
  {
   "cell_type": "markdown",
   "metadata": {},
   "source": [
    "3. В ящике имеется 15 деталей, из которых 9 окрашены. Рабочий случайным образом извлекает 3 детали. Какова вероятность того, что все извлеченные детали окрашены?"
   ]
  },
  {
   "cell_type": "code",
   "execution_count": 6,
   "metadata": {},
   "outputs": [
    {
     "name": "stdout",
     "output_type": "stream",
     "text": [
      "18.46%\n"
     ]
    }
   ],
   "source": [
    "# всего вариантов вытащить 3 из 15\n",
    "\n",
    "all_items = combinations(15,3)\n",
    "\n",
    "# вариантов вытащить 3 из окрашенных\n",
    "\n",
    "colored_items = combinations(9,3)\n",
    "\n",
    "answer = colored_items/all_items\n",
    "\n",
    "print('{}%'.format(round(answer*100, 2)))"
   ]
  },
  {
   "cell_type": "markdown",
   "metadata": {},
   "source": [
    "4. В лотерее 100 билетов. Из них 2 выигрышных. Какова вероятность того, что 2 приобретенных билета окажутся выигрышными?"
   ]
  },
  {
   "cell_type": "code",
   "execution_count": 7,
   "metadata": {},
   "outputs": [
    {
     "name": "stdout",
     "output_type": "stream",
     "text": [
      "0.02%\n"
     ]
    }
   ],
   "source": [
    "# всего вариантов вытащить 2 из 100\n",
    "\n",
    "all_tickets = combinations(100,2)\n",
    "\n",
    "# вариантов выбрать 2 выигрышных\n",
    "\n",
    "wins = combinations(2,2)\n",
    "\n",
    "answer = wins/all_tickets\n",
    "\n",
    "print('{}%'.format(round(answer*100, 2)))"
   ]
  }
 ],
 "metadata": {
  "kernelspec": {
   "display_name": "Python 3",
   "language": "python",
   "name": "python3"
  },
  "language_info": {
   "codemirror_mode": {
    "name": "ipython",
    "version": 3
   },
   "file_extension": ".py",
   "mimetype": "text/x-python",
   "name": "python",
   "nbconvert_exporter": "python",
   "pygments_lexer": "ipython3",
   "version": "3.7.1"
  }
 },
 "nbformat": 4,
 "nbformat_minor": 2
}
