{
 "cells": [
  {
   "cell_type": "code",
   "execution_count": 1,
   "metadata": {},
   "outputs": [],
   "source": [
    "from math import factorial\n",
    "import numpy as np\n",
    "\n",
    "def combinations(n, k):\n",
    "    return factorial(n)/(factorial(k)*factorial(n-k))\n",
    "\n",
    "def bernulli(n,k,p):\n",
    "    return combinations(n,k) * p**k * (1-p)**(n-k)\n",
    "\n",
    "def poisson(n,m,p):\n",
    "    return ((n * p)**(m))/factorial(m)*np.exp(-n * p)"
   ]
  },
  {
   "cell_type": "markdown",
   "metadata": {},
   "source": [
    "Вероятность того, что стрелок попадет в мишень, выстрелив один раз, равна 0.8. Стрелок выстрелил 100 раз. Найдите вероятность того, что стрелок попадет в цель ровно 85 раз.\n"
   ]
  },
  {
   "cell_type": "code",
   "execution_count": 2,
   "metadata": {},
   "outputs": [
    {
     "name": "stdout",
     "output_type": "stream",
     "text": [
      "4.806179370074635%\n"
     ]
    }
   ],
   "source": [
    "answer = bernulli(100,85,0.8)\n",
    "print('{}%'.format((answer*100)))"
   ]
  },
  {
   "cell_type": "markdown",
   "metadata": {},
   "source": [
    "Вероятность того, что лампочка перегорит в течение первого дня эксплуатации, равна 0.0004. В жилом комплексе после ремонта в один день включили 5000 новых лампочек. Какова вероятность, что ни одна из них не перегорит в первый день? Какова вероятность, что перегорят ровно две?"
   ]
  },
  {
   "cell_type": "code",
   "execution_count": 3,
   "metadata": {},
   "outputs": [
    {
     "name": "stdout",
     "output_type": "stream",
     "text": [
      "Вероятность, что ни одна не перегорит: 13.53352832366127%\n",
      "Вероятность, что перегорят ровно две: 27.06705664732254%\n"
     ]
    }
   ],
   "source": [
    "answer1 = poisson(5000,0,0.0004)\n",
    "answer2 = poisson(5000,2,0.0004)\n",
    "\n",
    "print(\"Вероятность, что ни одна не перегорит: {}%\".format(answer1*100))\n",
    "print(\"Вероятность, что перегорят ровно две: {}%\".format(answer2*100))"
   ]
  },
  {
   "cell_type": "markdown",
   "metadata": {},
   "source": [
    "Монету подбросили 144 раза. Какова вероятность, что орел выпадет ровно 70 раз?"
   ]
  },
  {
   "cell_type": "code",
   "execution_count": 4,
   "metadata": {},
   "outputs": [
    {
     "name": "stdout",
     "output_type": "stream",
     "text": [
      "6.281178035144776%\n"
     ]
    }
   ],
   "source": [
    "answer = bernulli(144, 70, 0.5)\n",
    "print('{}%'.format((answer*100)))"
   ]
  },
  {
   "cell_type": "markdown",
   "metadata": {},
   "source": [
    "В первом ящике находится 10 мячей, из которых 7 - белые. Во втором ящике - 11 мячей, из которых 9 белых. Из каждого ящика вытаскивают случайным образом по два мяча. Какова вероятность того, что все мячи белые? Какова вероятность того, что ровно два мяча белые? Какова вероятность того, что хотя бы один мяч белый?"
   ]
  },
  {
   "cell_type": "code",
   "execution_count": 5,
   "metadata": {},
   "outputs": [
    {
     "name": "stdout",
     "output_type": "stream",
     "text": [
      "Вероятность того, что все мячи белые: 30.545454545454543%\n",
      "Вероятность того, что ровно два мяча белые: 9.03030303030303%\n",
      "Вероятность того, что хотя бы один мяч белый: 99.87878787878788%\n"
     ]
    }
   ],
   "source": [
    "# Какова вероятность того, что все мячи белые?\n",
    "\n",
    "# выемки из одной коробки - зависимые события\n",
    "answer1 = 7/10*6/9*9/11*8/10\n",
    "\n",
    "# Какова вероятность того, что ровно два мяча белые?\n",
    "\n",
    "# тут 3 варианта - 2 из первой и 0 из второй, по одному из первой и второй, 0 из первой и 2 из второй\n",
    "answer2 = 7/10*6/9*2/11*1/10 + 7/10*3/9*9/11*2/10 + 3/10*2/9*9/11*8/10\n",
    "\n",
    "# Какова вероятность того, что хотя бы один мяч белый?\n",
    "# хотя бы один = 1 - ни одного\n",
    "answer3 = 1 - 3/10*2/9*2/11*1/10\n",
    "\n",
    "print(\"Вероятность того, что все мячи белые: {}%\".format(answer1*100))\n",
    "print(\"Вероятность того, что ровно два мяча белые: {}%\".format(answer2*100))\n",
    "print(\"Вероятность того, что хотя бы один мяч белый: {}%\".format(answer3*100))"
   ]
  }
 ],
 "metadata": {
  "kernelspec": {
   "display_name": "Python 3",
   "language": "python",
   "name": "python3"
  },
  "language_info": {
   "codemirror_mode": {
    "name": "ipython",
    "version": 3
   },
   "file_extension": ".py",
   "mimetype": "text/x-python",
   "name": "python",
   "nbconvert_exporter": "python",
   "pygments_lexer": "ipython3",
   "version": "3.7.1"
  }
 },
 "nbformat": 4,
 "nbformat_minor": 2
}
