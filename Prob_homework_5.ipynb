{
 "cells": [
  {
   "cell_type": "markdown",
   "metadata": {},
   "source": [
    "1. Известно, что генеральная совокупность распределена нормально\n",
    "со средним квадратическим отклонением, равным 16.\n",
    "Найти доверительный интервал для оценки математического ожидания a с надежностью 0.95,\n",
    "если выборочная средняя M = 80, а объем выборки n = 256."
   ]
  },
  {
   "cell_type": "code",
   "execution_count": 2,
   "metadata": {},
   "outputs": [
    {
     "name": "stdout",
     "output_type": "stream",
     "text": [
      "Доверительный интервал: от 78.04 до 81.96\n"
     ]
    }
   ],
   "source": [
    "import numpy as np\n",
    "\n",
    "std = 16\n",
    "M = 80\n",
    "n = 256\n",
    "\n",
    "alpha = 0.95\n",
    "t = 0.475\n",
    "t_laplass = 1.96\n",
    "left = M - t_laplass*std/np.sqrt(n)\n",
    "right = M + t_laplass*std/np.sqrt(n)\n",
    "\n",
    "print(\"Доверительный интервал: от {} до {}\".format(left, right))"
   ]
  },
  {
   "cell_type": "markdown",
   "metadata": {},
   "source": [
    "2. В результате 10 независимых измерений некоторой величины X, выполненных с одинаковой точностью,\n",
    "получены опытные данные:\n",
    "6.9, 6.1, 6.2, 6.8, 7.5, 6.3, 6.4, 6.9, 6.7, 6.1\n",
    "Предполагая, что результаты измерений подчинены нормальному закону распределения вероятностей,\n",
    "оценить истинное значение величины X при помощи доверительного интервала, покрывающего это\n",
    "значение с доверительной вероятностью 0,95."
   ]
  },
  {
   "cell_type": "code",
   "execution_count": 4,
   "metadata": {},
   "outputs": [
    {
     "name": "stdout",
     "output_type": "stream",
     "text": [
      "Доверительный интервал: от 6.310590177536849 до 6.869409822463149\n"
     ]
    }
   ],
   "source": [
    "X = [6.9, 6.1, 6.2, 6.8, 7.5, 6.3, 6.4, 6.9, 6.7, 6.1]\n",
    "alpha = 0.95\n",
    "t = 0.475\n",
    "t_laplass = 1.96\n",
    "\n",
    "avg_mean = sum(X)/len(X)\n",
    "\n",
    "non_shifted_disp = 0\n",
    "for item in X:\n",
    "    non_shifted_disp += (item - avg_mean) ** 2/(len(X) - 1)\n",
    "\n",
    "std = np.sqrt(non_shifted_disp)\n",
    "\n",
    "left = avg_mean - t_laplass*std/np.sqrt(len(X))\n",
    "right = avg_mean + t_laplass*std/np.sqrt(len(X))\n",
    "\n",
    "print(\"Доверительный интервал: от {} до {}\".format(left, right))"
   ]
  },
  {
   "cell_type": "markdown",
   "metadata": {},
   "source": [
    "3. Утверждается, что шарики для подшипников, изготовленные автоматическим станком, имеют средний диаметр 17 мм.\n",
    "Используя односторонний критерий с α=0,05, проверить эту гипотезу, если в выборке из n=100 шариков средний диаметр\n",
    "оказался равным 17.5 мм, а дисперсия известна и равна 4 мм."
   ]
  },
  {
   "cell_type": "code",
   "execution_count": 65,
   "metadata": {},
   "outputs": [
    {
     "name": "stdout",
     "output_type": "stream",
     "text": [
      "Поскольку Zh(2.5) > Z(1.645), мы принимаем альтернативную гипотезу (H1)\n"
     ]
    }
   ],
   "source": [
    "M = 17\n",
    "alpha = 0.05\n",
    "n = 100\n",
    "X_hat = 17.5\n",
    "disp = 4\n",
    "\n",
    "# H0 - диаметр все-таки 17 мм\n",
    "# H1 - диаметр больше (17.5)\n",
    "\n",
    "# Поскольку дисперсия известна, используем Z-тест\n",
    "\n",
    "Zh = (X_hat - M)/((np.sqrt(disp))/np.sqrt(n))\n",
    "Z = 1.645\n",
    "if Zh < Z:\n",
    "    print(\"Поскольку Zh({}) < Z({}), мы принимаем нулевую гипотезу (H0)\".format(Zh, Z))\n",
    "else:\n",
    "    print(\"Поскольку Zh({}) > Z({}), мы принимаем альтернативную гипотезу (H1)\".format(Zh, Z))\n"
   ]
  },
  {
   "cell_type": "markdown",
   "metadata": {},
   "source": [
    "4. Продавец утверждает, что средний вес пачки печенья составляет 200 г.\n",
    "Из партии извлечена выборка из 10 пачек. Вес каждой пачки составляет:\n",
    "202, 203, 199, 197, 195, 201, 200, 204, 194, 190.\n",
    "Известно, что их веса распределены нормально.\n",
    "Верно ли утверждение продавца, если учитывать, что доверительная вероятность равна 99%?"
   ]
  },
  {
   "cell_type": "code",
   "execution_count": 59,
   "metadata": {},
   "outputs": [
    {
     "name": "stdout",
     "output_type": "stream",
     "text": [
      "Поскольку т-критерий (-1.0651074037450894) попадает в интервал (-3.25 - 3.25), утверждение продавца верно (принимаем гипотезу H0)\n"
     ]
    }
   ],
   "source": [
    "M = 200\n",
    "n = 10\n",
    "X = [202, 203, 199, 197, 195, 201, 200, 204, 194, 190]\n",
    "alpha = 0.99\n",
    "\n",
    "# H0 - 200 гр и все тут\n",
    "# H1 - продавец лукавит\n",
    "\n",
    "X_hat = sum(X)/len(X)\n",
    "\n",
    "non_shifted_disp = 0\n",
    "for item in X:\n",
    "    non_shifted_disp += (item - X_hat) ** 2/(len(X) - 1)\n",
    "\n",
    "std = np.sqrt(non_shifted_disp)\n",
    "\n",
    "t = (X_hat - M)/(std/np.sqrt(len(X)))\n",
    "\n",
    "left = -3.25\n",
    "right = 3.25\n",
    "\n",
    "if t < left or t > right:\n",
    "    print(\"Поскольку т-критерий ({}) не попадает в интервал ({} - {}), продавец лукавит насчет своих 200 гр.(принмаем гипотезу H1)\".format(t, left, right))\n",
    "else:\n",
    "    print(\"Поскольку т-критерий ({}) попадает в интервал ({} - {}), утверждение продавца верно (принимаем гипотезу H0)\".format(t, left, right))\n"
   ]
  }
 ],
 "metadata": {
  "kernelspec": {
   "display_name": "Python 3",
   "language": "python",
   "name": "python3"
  },
  "language_info": {
   "codemirror_mode": {
    "name": "ipython",
    "version": 3
   },
   "file_extension": ".py",
   "mimetype": "text/x-python",
   "name": "python",
   "nbconvert_exporter": "python",
   "pygments_lexer": "ipython3",
   "version": "3.7.1"
  }
 },
 "nbformat": 4,
 "nbformat_minor": 2
}
