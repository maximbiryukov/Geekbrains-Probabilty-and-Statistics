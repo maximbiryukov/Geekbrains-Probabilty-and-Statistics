{
 "cells": [
  {
   "cell_type": "markdown",
   "metadata": {},
   "source": [
    "1. Даны значения величины заработной платы заемщиков банка (zp) и значения их поведенческого кредитного скоринга (ks):\n",
    "zp = [35, 45, 190, 200, 40, 70, 54, 150, 120, 110],\n",
    "ks = [401, 574, 874, 919, 459, 739, 653, 902, 746, 832].\n",
    "Найдите ковариацию этих двух величин с помощью элементарных действий, а затем с помощью функции cov из numpy\n",
    "Полученные значения должны быть равны.\n",
    "Найдите коэффициент корреляции Пирсона с помощью ковариации и среднеквадратичных отклонений двух признаков,\n",
    "а затем с использованием функций из библиотек numpy и pandas."
   ]
  },
  {
   "cell_type": "code",
   "execution_count": 92,
   "metadata": {},
   "outputs": [
    {
     "data": {
      "text/plain": [
       "True"
      ]
     },
     "execution_count": 92,
     "metadata": {},
     "output_type": "execute_result"
    }
   ],
   "source": [
    "import numpy as np\n",
    "import pandas as pd\n",
    "\n",
    "zp = [35, 45, 190, 200, 40, 70, 54, 150, 120, 110]\n",
    "ks = [401, 574, 874, 919, 459, 739, 653, 902, 746, 832]\n",
    "\n",
    "def covariation(first, second, shifted = 'yes'): # shifted можно заменить на 'no'\n",
    "    \n",
    "    first_avg = sum(first)/len(first)\n",
    "    second_avg = sum(second)/len(second)\n",
    "    \n",
    "    output = 0\n",
    "    \n",
    "    for i in range(len(first)):\n",
    "        output += (first[i] - first_avg) * (second[i] - second_avg)\n",
    "    \n",
    "    if shifted == 'yes':\n",
    "        output = output / (len(first) - 1)\n",
    "    elif shifted == 'no':\n",
    "        output = output / (len(first))\n",
    "    \n",
    "    return output\n",
    "\n",
    "round(np.cov(zp,ks)[0][1]) == round(covariation(zp,ks))\n"
   ]
  },
  {
   "cell_type": "code",
   "execution_count": 91,
   "metadata": {},
   "outputs": [
    {
     "data": {
      "text/plain": [
       "True"
      ]
     },
     "execution_count": 91,
     "metadata": {},
     "output_type": "execute_result"
    }
   ],
   "source": [
    "def corellation(first, second, shifted = 'yes'):\n",
    "    if shifted == 'yes':\n",
    "        return covariation(first,second) / (np.std(first, ddof=1) * np.std(second, ddof=1))\n",
    "    elif shifted == 'no':\n",
    "        return covariation(first,second, 'no') / (np.std(first) * np.std(second))\n",
    "\n",
    "salaries = pd.DataFrame(zp)\n",
    "scores = pd.DataFrame(ks) \n",
    "concat = pd.concat([salaries,scores],axis = 1).corr()\n",
    "    \n",
    "corellation(zp, ks) == np.corrcoef(zp,ks)[0][1] == concat.values[1][0]"
   ]
  },
  {
   "cell_type": "markdown",
   "metadata": {},
   "source": [
    "2. Измерены значения IQ выборки студентов,\n",
    "обучающихся в местных технических вузах:\n",
    "131, 125, 115, 122, 131, 115, 107, 99, 125, 111.\n",
    "Известно, что в генеральной совокупности IQ распределен нормально.\n",
    "Найдите доверительный интервал для математического ожидания с надежностью 0.95."
   ]
  },
  {
   "cell_type": "code",
   "execution_count": 94,
   "metadata": {},
   "outputs": [
    {
     "name": "stdout",
     "output_type": "stream",
     "text": [
      "Доверительный интервал: от 110.55594079648245 до 125.64405920351754\n"
     ]
    }
   ],
   "source": [
    "iq_data = [131, 125, 115, 122, 131, 115, 107, 99, 125, 111]\n",
    "\n",
    "alpha = 0.05\n",
    "t = 2.2622\n",
    "\n",
    "iq_avg = np.mean(iq_data)\n",
    "std = np.std(iq_data, ddof = 1)\n",
    "\n",
    "left = iq_avg - t * std / np.sqrt(len(iq_data))\n",
    "right = iq_avg + t * std / np.sqrt(len(iq_data))\n",
    "\n",
    "print(\"Доверительный интервал: от {} до {}\".format(left, right))"
   ]
  },
  {
   "cell_type": "markdown",
   "metadata": {},
   "source": [
    "3. Известно, что рост футболистов в сборной распределен нормально\n",
    "с дисперсией генеральной совокупности, равной 25 кв.см. Объем выборки равен 27,\n",
    "среднее выборочное составляет 174.2. Найдите доверительный интервал для математического\n",
    "ожидания с надежностью 0.95."
   ]
  },
  {
   "cell_type": "code",
   "execution_count": 95,
   "metadata": {},
   "outputs": [
    {
     "name": "stdout",
     "output_type": "stream",
     "text": [
      "Доверительный интервал: от 172.31398912064722 до 176.08601087935276\n"
     ]
    }
   ],
   "source": [
    "disp = 25\n",
    "n = 27\n",
    "M = 174.2\n",
    "alpha = 0.05\n",
    "t = 1.96\n",
    "\n",
    "left = M - t * np.sqrt(disp)/np.sqrt(n)\n",
    "right = M + t * np.sqrt(disp)/np.sqrt(n)\n",
    "\n",
    "print(\"Доверительный интервал: от {} до {}\".format(left, right))"
   ]
  },
  {
   "cell_type": "markdown",
   "metadata": {},
   "source": [
    "4. Тема курсовой: на основе данных imdb проверить гипотезу - рейтинги и награды не влияют на сборы фильмов."
   ]
  }
 ],
 "metadata": {
  "kernelspec": {
   "display_name": "Python 3",
   "language": "python",
   "name": "python3"
  },
  "language_info": {
   "codemirror_mode": {
    "name": "ipython",
    "version": 3
   },
   "file_extension": ".py",
   "mimetype": "text/x-python",
   "name": "python",
   "nbconvert_exporter": "python",
   "pygments_lexer": "ipython3",
   "version": "3.7.1"
  }
 },
 "nbformat": 4,
 "nbformat_minor": 2
}
