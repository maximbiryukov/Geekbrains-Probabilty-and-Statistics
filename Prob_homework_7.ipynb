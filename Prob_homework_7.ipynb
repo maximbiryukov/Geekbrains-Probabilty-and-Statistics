{
 "cells": [
  {
   "cell_type": "markdown",
   "metadata": {},
   "source": [
    "1. Даны значения величины заработной платы заемщиков банка (zp) и значения их поведенческого кредитного скоринга (ks): zp = [35, 45, 190, 200, 40, 70, 54, 150, 120, 110], ks = [401, 574, 874, 919, 459, 739, 653, 902, 746, 832]. Используя математические операции, посчитать коэффициенты линейной регрессии, приняв за X заработную плату (то есть, zp - признак), а за y - значения скорингового балла (то есть, ks - целевая переменная). Произвести расчет как с использованием intercept, так и без."
   ]
  },
  {
   "cell_type": "code",
   "execution_count": 13,
   "metadata": {},
   "outputs": [
    {
     "name": "stdout",
     "output_type": "stream",
     "text": [
      "Уравнение линии регрессии с intercept: y = 444.1773573243596 + 2.620538882402765*X\n",
      "Уравнение линии регрессии без intercept: y = 5.889820420132688*X\n"
     ]
    }
   ],
   "source": [
    "import numpy as np\n",
    "\n",
    "salaries = np.array([35, 45, 190, 200, 40, 70, 54, 150, 120, 110])\n",
    "scores = np.array([401, 574, 874, 919, 459, 739, 653, 902, 746, 832])\n",
    "\n",
    "avg_salaries = np.mean(salaries)\n",
    "avg_scores = np.mean(scores)\n",
    "\n",
    "\n",
    "# With intercept\n",
    "b = (np.mean(salaries * scores) - avg_salaries * avg_scores) / (np.mean(salaries ** 2) - avg_salaries ** 2)\n",
    "a = avg_score - b * avg_salaries\n",
    "\n",
    "# Without intercept\n",
    "B = np.mean(salaries * scores) / np.mean(salaries ** 2)\n",
    "\n",
    "print('Уравнение линии регрессии с intercept: y = {} + {}*X'.format(a, b))\n",
    "print('Уравнение линии регрессии без intercept: y = {}*X'.format(B))"
   ]
  },
  {
   "cell_type": "code",
   "execution_count": 15,
   "metadata": {},
   "outputs": [
    {
     "data": {
      "text/plain": [
       "[<matplotlib.lines.Line2D at 0x115cedf28>]"
      ]
     },
     "execution_count": 15,
     "metadata": {},
     "output_type": "execute_result"
    },
    {
     "data": {
      "image/png": "[encoded data removed]",
      "text/plain": [
       "<Figure size 432x288 with 1 Axes>"
      ]
     },
     "metadata": {
      "needs_background": "light"
     },
     "output_type": "display_data"
    }
   ],
   "source": [
    "import matplotlib.pyplot as plt\n",
    "\n",
    "X = np.linspace(0,200, 100)\n",
    "y = a + b * X\n",
    "y_2 = B * X\n",
    "\n",
    "plt.scatter(salaries, scores)\n",
    "plt.plot(X, y)\n",
    "plt.plot(X, y_2)"
   ]
  },
  {
   "cell_type": "markdown",
   "metadata": {},
   "source": [
    "2. Посчитать коэффициент линейной регрессии при заработной плате (zp), используя градиентный спуск (без intercept)."
   ]
  },
  {
   "cell_type": "code",
   "execution_count": 24,
   "metadata": {},
   "outputs": [
    {
     "name": "stdout",
     "output_type": "stream",
     "text": [
      "Итерация: 0, B1: 0.25952808, mse: 493237.7212546963.\n",
      "Итерация: 100, B1: 5.54537842245223, mse: 58151.31823171113.\n",
      "Итерация: 200, B1: 5.868748638669329, mse: 56522.97550129376.\n",
      "Итерация: 300, B1: 5.888531320728348, mse: 56516.88130936019.\n",
      "Итерация: 400, B1: 5.8897415574471985, mse: 56516.85850140053.\n",
      "Итерация: 500, B1: 5.889815595583751, mse: 56516.858416040064.\n",
      "Итерация: 600, B1: 5.889820124983314, mse: 56516.85841572062.\n",
      "Итерация: 700, B1: 5.889820402076462, mse: 56516.85841571941.\n",
      "Итерация: 800, B1: 5.88982041902807, mse: 56516.8584157194.\n",
      "Итерация: 900, B1: 5.889820420065112, mse: 56516.85841571941.\n"
     ]
    }
   ],
   "source": [
    "B1 = 0.1\n",
    "alpha = 1e-6\n",
    "n = len(scores)\n",
    "\n",
    "def mse(B, scores=scores, salaries=salaries, n=10):\n",
    "    return np.sum((B*salaries - scores) ** 2) / n\n",
    "\n",
    "for i in range(1000):\n",
    "    B1 -= alpha * (2/n) * np.sum((B1 * salaries - scores) * salaries)\n",
    "    if i%100 == 0:\n",
    "        print('Итерация: {}, B1: {}, mse: {}.'.format(i, B1, mse(B1)))\n",
    "    "
   ]
  },
  {
   "cell_type": "markdown",
   "metadata": {},
   "source": [
    "3. В каких случаях для вычисления доверительных интервалов и проверки статистических гипотез используется таблица значений функции Лапласа, а в каких - таблица критических точек распределения Стьюдента?"
   ]
  },
  {
   "cell_type": "markdown",
   "metadata": {},
   "source": [
    "Лапласса - когда есть данные о дисперсии (или стандартном отклонении) генеральной совокупности, Стьюдента - когда этих данных нет."
   ]
  },
  {
   "cell_type": "markdown",
   "metadata": {},
   "source": [
    "4. Произвести вычисления как в пункте 2, но с вычислением intercept. Учесть, что изменение коэффициентов должно производиться на каждом шаге одновременно (то есть изменение одного коэффициента не должно влиять на изменение другого во время одной итерации)."
   ]
  },
  {
   "cell_type": "code",
   "execution_count": 32,
   "metadata": {},
   "outputs": [],
   "source": [
    "# НЕ УСПЕЛ (("
   ]
  }
 ],
 "metadata": {
  "kernelspec": {
   "display_name": "Python 3",
   "language": "python",
   "name": "python3"
  },
  "language_info": {
   "codemirror_mode": {
    "name": "ipython",
    "version": 3
   },
   "file_extension": ".py",
   "mimetype": "text/x-python",
   "name": "python",
   "nbconvert_exporter": "python",
   "pygments_lexer": "ipython3",
   "version": "3.7.1"
  }
 },
 "nbformat": 4,
 "nbformat_minor": 2
}
