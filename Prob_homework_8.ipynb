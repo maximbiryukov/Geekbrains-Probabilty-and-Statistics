{
 "cells": [
  {
   "cell_type": "markdown",
   "metadata": {},
   "source": [
    "1. Провести дисперсионный анализ для определения того, есть ли различия среднего роста среди взрослых футболистов, хоккеистов и штангистов. Даны значения роста в трех группах случайно выбранных спортсменов: Футболисты: 173, 175, 180, 178, 177, 185, 183, 182. Хоккеисты: 177, 179, 180, 188, 177, 172, 171, 184, 180. Штангисты: 172, 173, 169, 177, 166, 180, 178, 177, 172, 166, 170."
   ]
  },
  {
   "cell_type": "code",
   "execution_count": 1,
   "metadata": {},
   "outputs": [],
   "source": [
    "def anova(*args):\n",
    "    n = len(args)\n",
    "    inputs = {}\n",
    "    groups_lens = {}\n",
    "    group_means = {}\n",
    "\n",
    "    for i in range(n):\n",
    "        inputs[i] = args[i]\n",
    "    \n",
    "    group_lens ={k:len(v) for k,v in inputs.items()}\n",
    "    group_means ={k:sum(v)/len(v) for k,v in inputs.items()}\n",
    "        \n",
    "    n_total = sum(group_lens.values())\n",
    "    \n",
    "    total = 0\n",
    "    for item in inputs.values():\n",
    "        total += sum(item)\n",
    "    \n",
    "    avg_all = total / n_total\n",
    "    \n",
    "    S_all = 0\n",
    "    S_group = 0\n",
    "    S_remaining = 0\n",
    "    \n",
    "    for i, item in inputs.items():\n",
    "        S_group += group_lens[i] * ((group_means[i] - avg_all)**2)\n",
    "        for number in item:\n",
    "            S_all += (number - avg_all)**2\n",
    "            S_remaining += (number - group_means[i])**2\n",
    "            \n",
    "    \n",
    "    total_variance = S_all / (n_total - 1)\n",
    "    group_variance = S_group / (len(inputs) - 1)\n",
    "    remaining_variance = S_remaining / (n_total - len(inputs))\n",
    "\n",
    "    F_H = group_variance / remaining_variance\n",
    "\n",
    "    df_all = n_total - len(inputs)\n",
    "    df_group = len(inputs) - 1\n",
    "    \n",
    "    print(\"Коэффициент F = {}, df = {}, df_group = {}\".format(F_H, df_all, df_group))\n",
    "    return (F_H)"
   ]
  },
  {
   "cell_type": "code",
   "execution_count": 2,
   "metadata": {},
   "outputs": [
    {
     "name": "stdout",
     "output_type": "stream",
     "text": [
      "Коэффициент F = 5.500053450812599, df = 25, df_group = 2\n"
     ]
    }
   ],
   "source": [
    "football = [173, 175, 180, 178, 177, 185, 183, 182]\n",
    "hockey = [177, 179, 180, 188, 177, 172, 171, 184, 180]\n",
    "lifting = [172, 173, 169, 177, 166, 180, 178, 177, 172, 166, 170]\n",
    "\n",
    "result = anova(football, hockey, lifting)"
   ]
  },
  {
   "cell_type": "code",
   "execution_count": 3,
   "metadata": {},
   "outputs": [
    {
     "name": "stdout",
     "output_type": "stream",
     "text": [
      "Отвергаем H0, разница значима\n"
     ]
    }
   ],
   "source": [
    "# Считаем для уровня значимости в 95%\n",
    "# H0 - различия между спортсменами не значимы, H1 - значимы\n",
    "\n",
    "F_critical = 3.38\n",
    "\n",
    "if result > F_critical:\n",
    "    print('Отвергаем H0, разница значима')\n",
    "else:\n",
    "    print('Принимаем H0, разница не значима')"
   ]
  }
 ],
 "metadata": {
  "kernelspec": {
   "display_name": "Python 3",
   "language": "python",
   "name": "python3"
  },
  "language_info": {
   "codemirror_mode": {
    "name": "ipython",
    "version": 3
   },
   "file_extension": ".py",
   "mimetype": "text/x-python",
   "name": "python",
   "nbconvert_exporter": "python",
   "pygments_lexer": "ipython3",
   "version": "3.7.1"
  }
 },
 "nbformat": 4,
 "nbformat_minor": 2
}
