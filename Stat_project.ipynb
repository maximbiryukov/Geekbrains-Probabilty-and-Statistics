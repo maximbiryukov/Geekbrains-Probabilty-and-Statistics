{
 "cells": [
  {
   "cell_type": "code",
   "execution_count": 20,
   "metadata": {},
   "outputs": [],
   "source": [
    "import pandas as pd\n",
    "pd.options.display.max_columns = 999"
   ]
  },
  {
   "cell_type": "code",
   "execution_count": 65,
   "metadata": {},
   "outputs": [],
   "source": [
    "data = pd.read_excel('data.xlsx')  # данные по 482 фильмам"
   ]
  },
  {
   "cell_type": "code",
   "execution_count": 66,
   "metadata": {},
   "outputs": [
    {
     "data": {
      "text/html": [
       "<div>\n",
       "<style scoped>\n",
       "    .dataframe tbody tr th:only-of-type {\n",
       "        vertical-align: middle;\n",
       "    }\n",
       "\n",
       "    .dataframe tbody tr th {\n",
       "        vertical-align: top;\n",
       "    }\n",
       "\n",
       "    .dataframe thead th {\n",
       "        text-align: right;\n",
       "    }\n",
       "</style>\n",
       "<table border=\"1\" class=\"dataframe\">\n",
       "  <thead>\n",
       "    <tr style=\"text-align: right;\">\n",
       "      <th></th>\n",
       "      <th>IMdb_score</th>\n",
       "      <th>Metascore</th>\n",
       "      <th>RT_score</th>\n",
       "      <th>Year</th>\n",
       "      <th>imdbVotes</th>\n",
       "      <th>worldwide-gross</th>\n",
       "      <th>Group</th>\n",
       "    </tr>\n",
       "  </thead>\n",
       "  <tbody>\n",
       "    <tr>\n",
       "      <th>count</th>\n",
       "      <td>482.000000</td>\n",
       "      <td>482.000000</td>\n",
       "      <td>482.000000</td>\n",
       "      <td>482.000000</td>\n",
       "      <td>4.820000e+02</td>\n",
       "      <td>4.820000e+02</td>\n",
       "      <td>482.000000</td>\n",
       "    </tr>\n",
       "    <tr>\n",
       "      <th>mean</th>\n",
       "      <td>68.547718</td>\n",
       "      <td>58.345995</td>\n",
       "      <td>61.928350</td>\n",
       "      <td>2008.952282</td>\n",
       "      <td>2.808395e+05</td>\n",
       "      <td>3.700036e+08</td>\n",
       "      <td>2.002075</td>\n",
       "    </tr>\n",
       "    <tr>\n",
       "      <th>std</th>\n",
       "      <td>9.124845</td>\n",
       "      <td>16.698983</td>\n",
       "      <td>25.290294</td>\n",
       "      <td>9.471689</td>\n",
       "      <td>2.822187e+05</td>\n",
       "      <td>3.678905e+08</td>\n",
       "      <td>0.816918</td>\n",
       "    </tr>\n",
       "    <tr>\n",
       "      <th>min</th>\n",
       "      <td>24.000000</td>\n",
       "      <td>9.000000</td>\n",
       "      <td>3.000000</td>\n",
       "      <td>1948.000000</td>\n",
       "      <td>1.900000e+01</td>\n",
       "      <td>0.000000e+00</td>\n",
       "      <td>1.000000</td>\n",
       "    </tr>\n",
       "    <tr>\n",
       "      <th>25%</th>\n",
       "      <td>63.000000</td>\n",
       "      <td>46.423092</td>\n",
       "      <td>43.000000</td>\n",
       "      <td>2004.250000</td>\n",
       "      <td>8.449250e+04</td>\n",
       "      <td>1.002250e+08</td>\n",
       "      <td>1.000000</td>\n",
       "    </tr>\n",
       "    <tr>\n",
       "      <th>50%</th>\n",
       "      <td>69.000000</td>\n",
       "      <td>58.000000</td>\n",
       "      <td>66.000000</td>\n",
       "      <td>2012.000000</td>\n",
       "      <td>1.972970e+05</td>\n",
       "      <td>2.481500e+08</td>\n",
       "      <td>2.000000</td>\n",
       "    </tr>\n",
       "    <tr>\n",
       "      <th>75%</th>\n",
       "      <td>75.000000</td>\n",
       "      <td>71.000000</td>\n",
       "      <td>84.341836</td>\n",
       "      <td>2016.000000</td>\n",
       "      <td>3.889688e+05</td>\n",
       "      <td>5.424250e+08</td>\n",
       "      <td>3.000000</td>\n",
       "    </tr>\n",
       "    <tr>\n",
       "      <th>max</th>\n",
       "      <td>90.000000</td>\n",
       "      <td>101.359200</td>\n",
       "      <td>101.359200</td>\n",
       "      <td>2018.000000</td>\n",
       "      <td>1.990170e+06</td>\n",
       "      <td>2.777200e+09</td>\n",
       "      <td>3.000000</td>\n",
       "    </tr>\n",
       "  </tbody>\n",
       "</table>\n",
       "</div>"
      ],
      "text/plain": [
       "       IMdb_score   Metascore    RT_score         Year     imdbVotes  \\\n",
       "count  482.000000  482.000000  482.000000   482.000000  4.820000e+02   \n",
       "mean    68.547718   58.345995   61.928350  2008.952282  2.808395e+05   \n",
       "std      9.124845   16.698983   25.290294     9.471689  2.822187e+05   \n",
       "min     24.000000    9.000000    3.000000  1948.000000  1.900000e+01   \n",
       "25%     63.000000   46.423092   43.000000  2004.250000  8.449250e+04   \n",
       "50%     69.000000   58.000000   66.000000  2012.000000  1.972970e+05   \n",
       "75%     75.000000   71.000000   84.341836  2016.000000  3.889688e+05   \n",
       "max     90.000000  101.359200  101.359200  2018.000000  1.990170e+06   \n",
       "\n",
       "       worldwide-gross       Group  \n",
       "count     4.820000e+02  482.000000  \n",
       "mean      3.700036e+08    2.002075  \n",
       "std       3.678905e+08    0.816918  \n",
       "min       0.000000e+00    1.000000  \n",
       "25%       1.002250e+08    1.000000  \n",
       "50%       2.481500e+08    2.000000  \n",
       "75%       5.424250e+08    3.000000  \n",
       "max       2.777200e+09    3.000000  "
      ]
     },
     "execution_count": 66,
     "metadata": {},
     "output_type": "execute_result"
    }
   ],
   "source": [
    "data.describe()"
   ]
  },
  {
   "cell_type": "code",
   "execution_count": 53,
   "metadata": {},
   "outputs": [],
   "source": [
    "data['worldwide-gross'] = data['worldwide-gross']/1000"
   ]
  },
  {
   "cell_type": "code",
   "execution_count": 55,
   "metadata": {},
   "outputs": [],
   "source": [
    "import matplotlib.pyplot as plt"
   ]
  },
  {
   "cell_type": "code",
   "execution_count": 62,
   "metadata": {},
   "outputs": [
    {
     "data": {
      "text/plain": [
       "(array([ 2.,  0.,  2.,  9., 20., 16., 36., 28., 38., 53., 48., 57., 45.,\n",
       "        34., 31., 25., 21., 10.,  5.,  2.]),\n",
       " array([  9.        ,  13.61795998,  18.23591996,  22.85387994,\n",
       "         27.47183992,  32.08979991,  36.70775989,  41.32571987,\n",
       "         45.94367985,  50.56163983,  55.17959981,  59.79755979,\n",
       "         64.41551977,  69.03347976,  73.65143974,  78.26939972,\n",
       "         82.8873597 ,  87.50531968,  92.12327966,  96.74123964,\n",
       "        101.35919962]),\n",
       " <a list of 20 Patch objects>)"
      ]
     },
     "execution_count": 62,
     "metadata": {},
     "output_type": "execute_result"
    },
    {
     "data": {
      "image/png": "[encoded data removed]",
      "text/plain": [
       "<Figure size 432x288 with 1 Axes>"
      ]
     },
     "metadata": {
      "needs_background": "light"
     },
     "output_type": "display_data"
    }
   ],
   "source": [
    "plt.hist(data['Metascore'], bins=20) "
   ]
  },
  {
   "cell_type": "code",
   "execution_count": null,
   "metadata": {},
   "outputs": [],
   "source": [
    "top = list(data.loc[data['Group'] == 1].Metascore)\n",
    "middle = list(data.loc[data['Group'] == 2].Metascore)\n",
    "bottom = list(data.loc[data['Group'] == 3].Metascore)"
   ]
  },
  {
   "cell_type": "code",
   "execution_count": 105,
   "metadata": {},
   "outputs": [
    {
     "data": {
      "text/plain": [
       "<matplotlib.legend.Legend at 0x1a2a2c3908>"
      ]
     },
     "execution_count": 105,
     "metadata": {},
     "output_type": "execute_result"
    },
    {
     "data": {
      "image/png": "[encoded data removed]",
      "text/plain": [
       "<Figure size 432x288 with 1 Axes>"
      ]
     },
     "metadata": {
      "needs_background": "light"
     },
     "output_type": "display_data"
    }
   ],
   "source": [
    "plt.hist(top, label='top', alpha = 0.9)\n",
    "plt.hist(middle, label='middle', alpha = 0.5)\n",
    "plt.hist(bottom, label='bottom', alpha = 0.3)\n",
    "plt.legend()"
   ]
  },
  {
   "cell_type": "markdown",
   "metadata": {},
   "source": [
    "# Проведем дисперсионный анализ для выявления степени различий между 3 группами фильмов. Предварительно я разделил всю выборку на 3 равные (по количеству) группы с маркировкой от 1 (наибольшие сборы) до 3 (наименьшие сборы)."
   ]
  },
  {
   "cell_type": "markdown",
   "metadata": {},
   "source": [
    "## Нулевая гипотеза - нет различий между рейтингами в группах. Альтернативная - различия значимы."
   ]
  },
  {
   "cell_type": "code",
   "execution_count": 106,
   "metadata": {},
   "outputs": [
    {
     "data": {
      "text/plain": [
       "F_onewayResult(statistic=30.252669895868202, pvalue=4.2400788846108403e-13)"
      ]
     },
     "execution_count": 106,
     "metadata": {},
     "output_type": "execute_result"
    }
   ],
   "source": [
    "import scipy.stats as stats\n",
    "\n",
    "stats.f_oneway(top, middle, bottom)"
   ]
  },
  {
   "cell_type": "markdown",
   "metadata": {},
   "source": [
    "## Судя по результатам дисперсионного анализа, мы отвергаем нулевую гипотезу - различия между группами значимы."
   ]
  }
 ],
 "metadata": {
  "kernelspec": {
   "display_name": "Python 3",
   "language": "python",
   "name": "python3"
  },
  "language_info": {
   "codemirror_mode": {
    "name": "ipython",
    "version": 3
   },
   "file_extension": ".py",
   "mimetype": "text/x-python",
   "name": "python",
   "nbconvert_exporter": "python",
   "pygments_lexer": "ipython3",
   "version": "3.7.1"
  }
 },
 "nbformat": 4,
 "nbformat_minor": 2
}
